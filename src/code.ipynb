{
 "cells": [
  {
   "cell_type": "code",
   "execution_count": 2,
   "metadata": {},
   "outputs": [],
   "source": [
    "import pandas as pd \n",
    "import numpy as np\n",
    "import os\n",
    "import pickle\n",
    "from collections import defaultdict\n",
    "import copy\n",
    "import re\n",
    "import matplotlib.pyplot as plt\n",
    "import seaborn as sns\n",
    "%matplotlib inline\n",
    "\n",
    "NOT_FOUND = -30"
   ]
  },
  {
   "cell_type": "markdown",
   "metadata": {},
   "source": [
    "## 辅助函数的定义"
   ]
  },
  {
   "cell_type": "code",
   "execution_count": 4,
   "metadata": {},
   "outputs": [],
   "source": [
    "def isChinese(char):\n",
    "    if char <'\\u4e00' or char > '\\u9fa5':\n",
    "        return False\n",
    "    else:\n",
    "        return True\n",
    "\n",
    "def freq2prob(dictionary):\n",
    "    tot = np.sum(list(dictionary.values()))\n",
    "    for key in dictionary.keys():\n",
    "        dictionary[key] /= tot\n",
    "        \n",
    "\n",
    "def dump_pkl(data, file):\n",
    "    if file:\n",
    "        data_pkl = open(file,'wb')\n",
    "        pickle.dump(data, data_pkl)\n",
    "        data_pkl.close()\n",
    "\n",
    "def load_pkl(file):\n",
    "    data_pkl = open(file,'rb')\n",
    "    data = pickle.load(data_pkl)\n",
    "    data_pkl.close()\n",
    "    return data\n",
    "\n",
    "\n",
    "def load_dicts(prob_form=True):\n",
    "    dual_dict = load_pkl('dual_dict.pkl')\n",
    "    trip_dict = load_pkl('trip_dict.pkl')\n",
    "    char_dict = load_pkl('char_dict.pkl')\n",
    "    if prob_form:\n",
    "        freq2prob(char_dict)\n",
    "        freq2prob(dual_dict)\n",
    "        freq2prob(trip_dict)\n",
    "    \n",
    "    return char_dict, dual_dict, trip_dict\n",
    "    "
   ]
  },
  {
   "cell_type": "markdown",
   "metadata": {},
   "source": [
    "## 数据处理\n",
    "\n",
    "将字、2元组、3元组以及他们的频率存储成字典，并将拼音表存储为字典。为节省时间，将所有字典存为pkl文件。运行时只读取pkl文件即可。"
   ]
  },
  {
   "cell_type": "code",
   "execution_count": null,
   "metadata": {},
   "outputs": [],
   "source": [
    "data = list()\n",
    "data_dir = os.path.join(os.getcwd(),'语料库','sina_news_gbk')\n",
    "for file in os.listdir(data_dir):\n",
    "    with open(os.path.join(data_dir, file),'r', encoding='gbk') as f:\n",
    "        for row in f:\n",
    "            data.append(row)\n",
    "\n",
    "with open(os.path.join(os.getcwd(),'语料库','baike_qa_train.json')) as f:\n",
    "    for row in f:\n",
    "        data.append(row)"
   ]
  },
  {
   "cell_type": "code",
   "execution_count": 106,
   "metadata": {},
   "outputs": [],
   "source": [
    "# 只运行一次，创建二元字dict\n",
    "dual_dict = defaultdict(int)\n",
    "for sentence in data:\n",
    "    for i in range(len(sentence)-1):\n",
    "        if isChinese(sentence[i]) and isChinese(sentence[i+1]):\n",
    "            dual_dict[sentence[i:i+2]] += 1\n",
    "            \n",
    "dump_pkl(dual_dict,dual_dict.pkl')\n",
    "dual_dict = load_pkl(dual_dict.pkl')"
   ]
  },
  {
   "cell_type": "code",
   "execution_count": 5,
   "metadata": {},
   "outputs": [],
   "source": [
    "# 只运行一次，创建三元字dict\n",
    "trip_dict = defaultdict(int)\n",
    "for sentence in data:\n",
    "    for i in range(len(sentence)-2):\n",
    "        if isChinese(sentence[i]) and isChinese(sentence[i+1]) and isChinese(sentence[i+2]):\n",
    "            trip_dict[sentence[i:i+3]] += 1\n",
    "            \n",
    "dump_pkl(trip_dict,'trip_dict.pkl')\n",
    "trip_dict = load_pkl('trip_dict.pkl')"
   ]
  },
  {
   "cell_type": "code",
   "execution_count": 8,
   "metadata": {},
   "outputs": [],
   "source": [
    "# 只运行一次，创建字符dict\n",
    "char_dict = defaultdict(int)\n",
    "for sentence in data:\n",
    "    for i in range(len(sentence)):\n",
    "        if isChinese(sentence[i]):\n",
    "            char_dict[sentence[i]] += 1\n",
    "\n",
    "dump_pkl(char_dict, 'char_dict.pkl')\n",
    "char_dict = load_pkl('char_dict.pkl')"
   ]
  },
  {
   "cell_type": "code",
   "execution_count": 7,
   "metadata": {},
   "outputs": [],
   "source": [
    "pinyinbiao = list()\n",
    "# pinyinToHanzi = dict()\n",
    "with open('拼音汉字表\\\\拼音汉字表.txt','r',encoding='gbk') as f:\n",
    "    for row in f:\n",
    "        pinyinbiao.append(row.split(' '))\n",
    "\n",
    "pinyinToHanzi = {i[0]: i[1:-1]+ list(i[-1][0]) for i in pinyinbiao}\n",
    "\n",
    "dump_pkl(pinyinToHanzi, 'pinyinToHanzi.pkl')\n",
    "pinyinToHanzi = load_pkl('pinyinToHanzi.pkl')"
   ]
  },
  {
   "cell_type": "markdown",
   "metadata": {},
   "source": [
    "## 定义三个模型"
   ]
  },
  {
   "cell_type": "code",
   "execution_count": 69,
   "metadata": {},
   "outputs": [],
   "source": [
    "# 读入数据\n",
    "char_dict, dual_dict, trip_dict = load_dicts(prob_form=True)\n"
   ]
  },
  {
   "cell_type": "markdown",
   "metadata": {},
   "source": [
    "### 二元模型"
   ]
  },
  {
   "cell_type": "code",
   "execution_count": 58,
   "metadata": {},
   "outputs": [],
   "source": [
    "def find_prob(char_dict, dual_dict, w1, w2):\n",
    "    # result = defaultdict(int)\n",
    "    if w1+w2 in dual_dict.keys():\n",
    "        # print(w1+w2+' in')\n",
    "        return np.log10(dual_dict[w1+w2]) - np.log10(char_dict[w1])\n",
    "    else:\n",
    "        return NOT_FOUND\n",
    "    \n",
    "    "
   ]
  },
  {
   "cell_type": "code",
   "execution_count": 10,
   "metadata": {},
   "outputs": [],
   "source": [
    "def parse2(sentence, weight=None):\n",
    "    if len(sentence)==1:\n",
    "        hanzi = pinyinToHanzi[sentence[0]]\n",
    "        return max(hanzi, key=lambda x: char_dict[x])\n",
    "    elif len(sentence)==0:\n",
    "        return None\n",
    "    states = list()\n",
    "    for i in range(len(sentence)):\n",
    "        # states 共有 layer_i 层,每层对应一个拼音,每层中存储该拼音可能对应的汉字\n",
    "        states.append(pinyinToHanzi[sentence[i]])\n",
    "    \n",
    "    this_layer = [(i,0) for i in states[-1]] # 初始化当前层为最后一层\n",
    "    # print(len(this_layer))\n",
    "    for layer_i in range(len(sentence)-2,-1,-1):\n",
    "        prev_layer = copy.deepcopy(this_layer)\n",
    "        this_layer = list()\n",
    "        for char_j in range(len(states[layer_i])):\n",
    "            # print(f'iterating char_j {states[layer_i][char_j]}')\n",
    "            if not len(prev_layer):\n",
    "                return list()\n",
    "            max_tuple = max(prev_layer, key=lambda x: find_prob(char_dict,dual_dict,states[layer_i][char_j], x[0][0]))\n",
    "            new_tuple = (states[layer_i][char_j]+max_tuple[0], max_tuple[1]+ find_prob(char_dict,dual_dict,states[layer_i][char_j], max_tuple[0][0]))\n",
    "            # print(new_tuple)\n",
    "            this_layer.append(new_tuple)\n",
    "            # print(max_tuple)\n",
    "    if not len(this_layer):\n",
    "                return list()\n",
    "    return max(this_layer, key=lambda x: x[-1])[0]\n",
    "    # return this_layer\n",
    "    # return states\n"
   ]
  },
  {
   "cell_type": "code",
   "execution_count": 54,
   "metadata": {},
   "outputs": [
    {
     "data": {
      "text/plain": [
       "'经济建设和文化建设突出了市八大经审的重要性'"
      ]
     },
     "execution_count": 54,
     "metadata": {},
     "output_type": "execute_result"
    }
   ],
   "source": [
    "out =parse2('jing ji jian she he wen hua jian she tu chu le shi ba da jing shen de zhong yao xing'.split(' '))\n",
    "out"
   ]
  },
  {
   "cell_type": "markdown",
   "metadata": {},
   "source": [
    "### 三元模型"
   ]
  },
  {
   "cell_type": "code",
   "execution_count": 87,
   "metadata": {},
   "outputs": [],
   "source": [
    "def find_prob3(char_dict, dual_dict, trip_dict, w1, w2, w3):\n",
    "    if w1+w2+w3 in trip_dict.keys() and w1+w2 in dual_dict.keys():\n",
    "        return np.log10(trip_dict[w1+w2+w3]) - np.log10(dual_dict[w1+w2])\n",
    "    # elif w1+w2 in dual_dict.keys() and w2+w3 in dual_dict.keys():\n",
    "    #     return 100000*(find_prob(char_dict, dual_dict, w2,w3) + find_prob(char_dict, dual_dict, w1,w2) - np.log10(dual_dict[w1+w2]))\n",
    "    else:\n",
    "        return NOT_FOUND\n",
    "    \n",
    "def parse3(sentence, weight=None):\n",
    "    if len(sentence)<=2:\n",
    "        return parse2(sentence)\n",
    "    \n",
    "    states = list()\n",
    "    for i in range(len(sentence)):\n",
    "        # states 共有 layer_i 层,每层对应一个拼音,每层中存储该拼音可能对应的汉字\n",
    "        states.append(pinyinToHanzi[sentence[i]])\n",
    "    \n",
    "    this_layer = [(i,0) for i in states[-1]]\n",
    "    for layer_i in range(len(sentence)-2,-1,-1):\n",
    "        prev_layer = copy.deepcopy(this_layer)\n",
    "        this_layer = list()\n",
    "        for char_j in range(len(states[layer_i])):\n",
    "            # print(f'iterating char_j {states[layer_i][char_j]}')\n",
    "            if not len(prev_layer):\n",
    "                return list()\n",
    "            if len(prev_layer[0][0])<=2:\n",
    "                max_tuple = max(prev_layer, key=lambda x: find_prob(char_dict,dual_dict,states[layer_i][char_j], x[0][0]))\n",
    "            else:\n",
    "                # print('in 3')\n",
    "                max_tuple = max(prev_layer, key=lambda x: find_prob3(char_dict, dual_dict,trip_dict,states[layer_i][char_j], x[0][0], x[0][1]))\n",
    "            new_tuple = (states[layer_i][char_j]+max_tuple[0], max_tuple[1]+ find_prob(char_dict,dual_dict,states[layer_i][char_j], max_tuple[0][0]))\n",
    "            # print(new_tuple)\n",
    "            this_layer.append(new_tuple)\n",
    "            # print(max_tuple)\n",
    "    if not len(this_layer):\n",
    "                return list()\n",
    "    return max(this_layer, key=lambda x: x[-1])[0]\n",
    "    \n",
    "\n",
    "    "
   ]
  },
  {
   "cell_type": "code",
   "execution_count": 86,
   "metadata": {},
   "outputs": [
    {
     "data": {
      "text/plain": [
       "'经济建设鹤雯骅舰舌堍搐肋贳坝答睛吲得重要性'"
      ]
     },
     "execution_count": 86,
     "metadata": {},
     "output_type": "execute_result"
    }
   ],
   "source": [
    "out =parse3('jing ji jian she he wen hua jian she tu chu le shi ba da jing shen de zhong yao xing'.split(' '))\n",
    "out"
   ]
  },
  {
   "cell_type": "markdown",
   "metadata": {},
   "source": [
    "### 混合模型"
   ]
  },
  {
   "cell_type": "code",
   "execution_count": 15,
   "metadata": {},
   "outputs": [],
   "source": [
    "def find_prob_mixed(char_dict, dual_dict, trip_dict, w1,w2,w3, weight=0):\n",
    "    return weight*find_prob(char_dict,dual_dict,w1,w2) + (1-weight)*find_prob3(char_dict,dual_dict,trip_dict,w1,w2,w3)\n",
    "    \n",
    "\n",
    "def parse_mixed(sentence, weight=0):\n",
    "    \"\"\"混合模型\n",
    "\n",
    "    Args:\n",
    "        sentence (list): 整句话的拼音\n",
    "        weight (int, optional): 2元模型所占权重，0，1之间. Defaults to 0.\n",
    "    \"\"\"\n",
    "    if len(sentence)<=2:\n",
    "       return parse2(sentence)\n",
    "    \n",
    "    states = list()\n",
    "    for i in range(len(sentence)):\n",
    "        # states 共有 layer_i 层,每层对应一个拼音,每层中存储该拼音可能对应的汉字\n",
    "        states.append(pinyinToHanzi[sentence[i]])\n",
    "    \n",
    "    this_layer = [(i,0) for i in states[-1]]\n",
    "    for layer_i in range(len(sentence)-2,-1,-1):\n",
    "        prev_layer = copy.deepcopy(this_layer)\n",
    "        this_layer = list()\n",
    "        for char_j in range(len(states[layer_i])):\n",
    "            # print(f'iterating char_j {states[layer_i][char_j]}')\n",
    "            if not len(prev_layer):\n",
    "                return list()\n",
    "            if len(prev_layer[0][0])<=2:\n",
    "                max_tuple = max(prev_layer, key=lambda x: find_prob(char_dict,dual_dict,states[layer_i][char_j], x[0][0]))\n",
    "            else:\n",
    "                # print('in 3')\n",
    "                max_tuple = max(prev_layer, key=lambda x: find_prob_mixed(char_dict, dual_dict,trip_dict,states[layer_i][char_j], x[0][0], x[0][1],weight=weight))\n",
    "            new_tuple = (states[layer_i][char_j]+max_tuple[0], max_tuple[1]+ find_prob(char_dict,dual_dict,states[layer_i][char_j], max_tuple[0][0]))\n",
    "            # print(new_tuple)\n",
    "            this_layer.append(new_tuple)\n",
    "            # print(max_tuple)\n",
    "    if not len(this_layer):\n",
    "                return list()\n",
    "    return max(this_layer, key=lambda x: x[-1])[0]\n",
    "    "
   ]
  },
  {
   "cell_type": "code",
   "execution_count": 90,
   "metadata": {},
   "outputs": [
    {
     "data": {
      "text/plain": [
       "'经济建设和文化建设突出了十八大精神的重要性'"
      ]
     },
     "execution_count": 90,
     "metadata": {},
     "output_type": "execute_result"
    }
   ],
   "source": [
    "out =parse_mixed('jing ji jian she he wen hua jian she tu chu le shi ba da jing shen de zhong yao xing'.split(' '), weight=0.5)\n",
    "out"
   ]
  },
  {
   "cell_type": "markdown",
   "metadata": {},
   "source": [
    "## 模型结果"
   ]
  },
  {
   "cell_type": "markdown",
   "metadata": {},
   "source": [
    "### 定义一些测试函数"
   ]
  },
  {
   "cell_type": "code",
   "execution_count": 24,
   "metadata": {},
   "outputs": [],
   "source": [
    "def sentence_word_acc(pinyin, sentence, sep=' '):\n",
    "    '''return the number of correctly predicted character'''\n",
    "    list_pinyin = pinyin.split(sep)\n",
    "    if len(sentence) != len(list_pinyin):\n",
    "        print(\"Error length\")\n",
    "        return\n",
    "    else:\n",
    "        sentence_hat = parse2(list_pinyin)\n",
    "        \n",
    "        return np.sum(np.array([i for i in sentence]) == np.array([i for i in sentence_hat]))\n",
    "\n",
    "\n",
    "def predict(input, method='2', sep=' ',weight=None):\n",
    "    '''accept list of input and return the list of prediction'''\n",
    "    out = list()\n",
    "    methods = {\n",
    "        '2': parse2,\n",
    "        '3': parse3,\n",
    "        'mix': parse_mixed\n",
    "    }\n",
    "    \n",
    "    for sentence in input:\n",
    "        out.append(methods[method](sentence.split(sep),weight=weight))\n",
    "    \n",
    "    return out\n",
    "        \n",
    "    \n",
    "\n",
    "def evaluate(input, output, sep=' ',method='2',mode='sentence-level',weight=None):\n",
    "    '''accept list of input and output, return the accuracy'''\n",
    "    pred = predict(input=input,method=method,sep=sep,weight=weight)\n",
    "    \n",
    "    if mode == 'word-level':\n",
    "        pred_list = np.array([char for row in pred for char in row])\n",
    "        output_list = np.array([char for row in output for char in row])\n",
    "        return np.sum(pred_list==output_list)/len(pred_list)\n",
    "        \n",
    "    elif mode == 'sentence-level':\n",
    "        return np.sum(np.array(pred)==np.array(output))/len(pred)\n",
    "    \n",
    "    else:\n",
    "        print(\"mode parameter only accept 'word-level','sentence-level'].\")"
   ]
  },
  {
   "cell_type": "code",
   "execution_count": 23,
   "metadata": {},
   "outputs": [],
   "source": [
    "def read_test(input_path, output_path):\n",
    "    input = list()\n",
    "    output = list()\n",
    "    with open(output_path,'r',encoding='utf-8') as f:\n",
    "        for row in f:\n",
    "            output.append(re.findall(r'(.+)\\n',row)[0])\n",
    "    \n",
    "    with open(input_path,'r',encoding='utf-8') as f:\n",
    "        for row in f:\n",
    "            input.append(re.findall(r'(.+)\\n',row)[0])\n",
    "        \n",
    "    return input, output\n",
    "    "
   ]
  },
  {
   "cell_type": "code",
   "execution_count": 108,
   "metadata": {},
   "outputs": [
    {
     "data": {
      "text/plain": [
       "[1, 2]"
      ]
     },
     "execution_count": 108,
     "metadata": {},
     "output_type": "execute_result"
    }
   ],
   "source": []
  },
  {
   "cell_type": "markdown",
   "metadata": {},
   "source": [
    "### 二元、三元模型结果"
   ]
  },
  {
   "cell_type": "code",
   "execution_count": 25,
   "metadata": {},
   "outputs": [],
   "source": [
    "input_path = os.path.join(os.getcwd(),'..\\\\data\\\\input.txt')\n",
    "output_path = os.path.join(os.getcwd(),'..\\\\data\\\\output.txt')\n",
    "input, output = read_test(input_path, output_path)"
   ]
  },
  {
   "cell_type": "code",
   "execution_count": 105,
   "metadata": {},
   "outputs": [],
   "source": [
    "# for i in range(len(input)):\n",
    "#     my_in = input[i].split(\" \")\n",
    "#     if parse2(my_in)!=output[i] and parse3(my_in) == output[i] and parse_mixed(my_in,0.5)!=output[i]:\n",
    "#         print(input[i])"
   ]
  },
  {
   "cell_type": "code",
   "execution_count": 26,
   "metadata": {},
   "outputs": [
    {
     "data": {
      "text/plain": [
       "0.6073408526094437"
      ]
     },
     "execution_count": 26,
     "metadata": {},
     "output_type": "execute_result"
    }
   ],
   "source": [
    "# 二元模型词准确度\n",
    "evaluate(input,output,method='2',mode='word-level',weight=None)"
   ]
  },
  {
   "cell_type": "code",
   "execution_count": 71,
   "metadata": {},
   "outputs": [
    {
     "data": {
      "text/plain": [
       "0.066"
      ]
     },
     "execution_count": 71,
     "metadata": {},
     "output_type": "execute_result"
    }
   ],
   "source": [
    "# 二元模型句子准确度\n",
    "evaluate(input,output,method='2',mode='sentence-level',weight=None)"
   ]
  },
  {
   "cell_type": "code",
   "execution_count": 88,
   "metadata": {},
   "outputs": [
    {
     "data": {
      "text/plain": [
       "0.5316383100745555"
      ]
     },
     "execution_count": 88,
     "metadata": {},
     "output_type": "execute_result"
    }
   ],
   "source": [
    "# 三元模型词准确度\n",
    "evaluate(input,output,method='3',mode='word-level',weight=None)"
   ]
  },
  {
   "cell_type": "code",
   "execution_count": 89,
   "metadata": {},
   "outputs": [
    {
     "data": {
      "text/plain": [
       "0.132"
      ]
     },
     "execution_count": 89,
     "metadata": {},
     "output_type": "execute_result"
    }
   ],
   "source": [
    "# 三元模型句子准确度\n",
    "evaluate(input,output,method='3',mode='sentence-level',weight=None)"
   ]
  },
  {
   "cell_type": "markdown",
   "metadata": {},
   "source": [
    "### 混合模型权重参数调优"
   ]
  },
  {
   "cell_type": "code",
   "execution_count": 29,
   "metadata": {},
   "outputs": [],
   "source": [
    "ws = np.arange(0,1,step=0.1)\n",
    "word_res = list()\n",
    "sent_res = list()\n",
    "for w in ws:\n",
    "    word_res.append(evaluate(input,output,method='mix',mode=\"word-level\",weight=w))\n",
    "    sent_res.append(evaluate(input,output,method='mix',mode=\"sentence-level\",weight=w))"
   ]
  },
  {
   "cell_type": "code",
   "execution_count": 32,
   "metadata": {},
   "outputs": [
    {
     "name": "stderr",
     "output_type": "stream",
     "text": [
      "F:\\MiniConda\\lib\\site-packages\\seaborn\\_decorators.py:36: FutureWarning: Pass the following variables as keyword args: x, y. From version 0.12, the only valid positional argument will be `data`, and passing other arguments without an explicit keyword will result in an error or misinterpretation.\n",
      "  warnings.warn(\n",
      "F:\\MiniConda\\lib\\site-packages\\seaborn\\_decorators.py:36: FutureWarning: Pass the following variables as keyword args: x, y. From version 0.12, the only valid positional argument will be `data`, and passing other arguments without an explicit keyword will result in an error or misinterpretation.\n",
      "  warnings.warn(\n"
     ]
    },
    {
     "data": {
      "image/png": "[encoded data removed]",
      "text/plain": [
       "<Figure size 432x288 with 1 Axes>"
      ]
     },
     "metadata": {
      "needs_background": "light"
     },
     "output_type": "display_data"
    }
   ],
   "source": [
    "sns.lineplot(ws, word_res, label=\"word level accuracy\")\n",
    "sns.lineplot(ws, sent_res, label=\"sentence level accuracy\")\n",
    "plt.title(\"Accuracy over Different Weights\")\n",
    "plt.grid()\n",
    "plt.legend()\n",
    "plt.show()"
   ]
  },
  {
   "cell_type": "code",
   "execution_count": 39,
   "metadata": {},
   "outputs": [
    {
     "name": "stdout",
     "output_type": "stream",
     "text": [
      "0.7619957943031925\n",
      "0.6\n"
     ]
    }
   ],
   "source": [
    "# 最大的词准确度以及对应的weight\n",
    "print(max(word_res))\n",
    "print(round(ws[np.argmax(word_res)],4))"
   ]
  },
  {
   "cell_type": "code",
   "execution_count": 41,
   "metadata": {},
   "outputs": [
    {
     "name": "stdout",
     "output_type": "stream",
     "text": [
      "0.232\n",
      "0.5\n"
     ]
    }
   ],
   "source": [
    "# 最大的句子准确度 以及对应的weight\n",
    "print(max(sent_res))\n",
    "print(round(ws[np.argmax(sent_res)],4))\n"
   ]
  }
 ],
 "metadata": {
  "interpreter": {
   "hash": "604c303a0ac757c0ced6b27e71500a71e1eb4b0c12ede4a82453c6576ba0abbd"
  },
  "kernelspec": {
   "display_name": "base",
   "language": "python",
   "name": "base"
  },
  "language_info": {
   "codemirror_mode": {
    "name": "ipython",
    "version": 3
   },
   "file_extension": ".py",
   "mimetype": "text/x-python",
   "name": "python",
   "nbconvert_exporter": "python",
   "pygments_lexer": "ipython3",
   "version": "3.9.7"
  },
  "orig_nbformat": 4
 },
 "nbformat": 4,
 "nbformat_minor": 2
}
